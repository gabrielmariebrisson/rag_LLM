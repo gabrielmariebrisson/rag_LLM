{
 "cells": [
  {
   "cell_type": "code",
   "execution_count": 1,
   "id": "3c9cd524",
   "metadata": {},
   "outputs": [
    {
     "name": "stderr",
     "output_type": "stream",
     "text": [
      "/home/gabriel/anaconda3/envs/cine_reco/lib/python3.12/site-packages/tqdm/auto.py:21: TqdmWarning: IProgress not found. Please update jupyter and ipywidgets. See https://ipywidgets.readthedocs.io/en/stable/user_install.html\n",
      "  from .autonotebook import tqdm as notebook_tqdm\n",
      "2025-10-28 08:25:10.992379: I tensorflow/core/platform/cpu_feature_guard.cc:210] This TensorFlow binary is optimized to use available CPU instructions in performance-critical operations.\n",
      "To enable the following instructions: AVX2 FMA, in other operations, rebuild TensorFlow with the appropriate compiler flags.\n"
     ]
    }
   ],
   "source": [
    "import os\n",
    "import pandas as pd\n",
    "from langchain_text_splitters import CharacterTextSplitter\n",
    "from langchain_huggingface import HuggingFaceEmbeddings\n",
    "\n",
    "from langchain_community.vectorstores.faiss import FAISS\n",
    "from langchain_core.documents import Document\n",
    "from mistralai import Mistral"
   ]
  },
  {
   "cell_type": "code",
   "execution_count": null,
   "id": "91f90e60",
   "metadata": {},
   "outputs": [],
   "source": []
  },
  {
   "cell_type": "code",
   "execution_count": 2,
   "id": "b2805357",
   "metadata": {},
   "outputs": [],
   "source": [
    "# Charger le CSV\n",
    "df = pd.read_csv(\"squad_2.0/train.csv\") \n"
   ]
  },
  {
   "cell_type": "code",
   "execution_count": 3,
   "id": "3f17e8c2",
   "metadata": {},
   "outputs": [],
   "source": [
    "# Convertir en documents LangChain\n",
    "documents = []\n",
    "for _, row in df.iterrows():\n",
    "    content = f\"Title: {row['title']}\\nContext: {row['context']}\\nAnswer: {row['answers']}\"\n",
    "    documents.append(Document(page_content=content, metadata={\"id\": row['id'], \"question\": row['question']}))\n"
   ]
  },
  {
   "cell_type": "code",
   "execution_count": 4,
   "id": "cfcd9595",
   "metadata": {},
   "outputs": [],
   "source": [
    "# Découper les documents en chunks si nécessaire\n",
    "text_splitter = CharacterTextSplitter(chunk_size=1000, chunk_overlap=0)\n",
    "docs = text_splitter.split_documents(documents)\n"
   ]
  },
  {
   "cell_type": "code",
   "execution_count": 5,
   "id": "3e194bea",
   "metadata": {},
   "outputs": [],
   "source": [
    "\n",
    "# Initialiser les embeddings (HuggingFace, gratuit)\n",
    "embeddings = HuggingFaceEmbeddings(model_name=\"sentence-transformers/all-MiniLM-L6-v2\")\n",
    "\n"
   ]
  },
  {
   "cell_type": "code",
   "execution_count": 8,
   "id": "ce2b3168",
   "metadata": {},
   "outputs": [],
   "source": [
    "# Créer FAISS vector store\n",
    "vectorstore = FAISS.from_documents(docs, embeddings)"
   ]
  },
  {
   "cell_type": "code",
   "execution_count": null,
   "id": "08455974",
   "metadata": {},
   "outputs": [],
   "source": [
    "# vectorstore.save_local(\"faiss_index\")"
   ]
  },
  {
   "cell_type": "code",
   "execution_count": 8,
   "id": "7b4d1585",
   "metadata": {},
   "outputs": [],
   "source": [
    "vectorstore = FAISS.load_local(\"faiss_index\", embeddings, allow_dangerous_deserialization=True)\n"
   ]
  },
  {
   "cell_type": "code",
   "execution_count": 19,
   "id": "bcb274ad",
   "metadata": {},
   "outputs": [
    {
     "name": "stdout",
     "output_type": "stream",
     "text": [
      "Title: Green\n",
      "Context: Green is common in nature, as many plants are green because of a complex chemical known as chlorophyll, which is involved in photosynthesis. Chlorophyll absorbs the long wavelengths of light (red) and short wavelengths of light (blue) much more efficiently than the wavelengths that appear green to the human eye, so light reflected by plants is enriched in green. Chlorophyll absorbs green light poorly because it first arose in organisms living in oceans where purple halobacteria were already exploiting photosynthesis. Their purple color arose because they extracted energy in the green portion of the spectrum using bacteriorhodopsin. The new organisms that then later came to dominate the extraction of light were selected to exploit those portions of the spectrum not used by the halobacteria.\n",
      "Answer: {'text': array(['organisms living in oceans'], dtype=object), 'answer_start': array([430], dtype=int32)}\n",
      "\n",
      "Title: Green\n",
      "Context: Green is common in nature, as many plants are green because of a complex chemical known as chlorophyll, which is involved in photosynthesis. Chlorophyll absorbs the long wavelengths of light (red) and short wavelengths of light (blue) much more efficiently than the wavelengths that appear green to the human eye, so light reflected by plants is enriched in green. Chlorophyll absorbs green light poorly because it first arose in organisms living in oceans where purple halobacteria were already exploiting photosynthesis. Their purple color arose because they extracted energy in the green portion of the spectrum using bacteriorhodopsin. The new organisms that then later came to dominate the extraction of light were selected to exploit those portions of the spectrum not used by the halobacteria.\n",
      "Answer: {'text': array(['absorbs'], dtype=object), 'answer_start': array([153], dtype=int32)}\n",
      "\n",
      "Title: Green\n",
      "Context: Green is common in nature, as many plants are green because of a complex chemical known as chlorophyll, which is involved in photosynthesis. Chlorophyll absorbs the long wavelengths of light (red) and short wavelengths of light (blue) much more efficiently than the wavelengths that appear green to the human eye, so light reflected by plants is enriched in green. Chlorophyll absorbs green light poorly because it first arose in organisms living in oceans where purple halobacteria were already exploiting photosynthesis. Their purple color arose because they extracted energy in the green portion of the spectrum using bacteriorhodopsin. The new organisms that then later came to dominate the extraction of light were selected to exploit those portions of the spectrum not used by the halobacteria.\n",
      "Answer: {'text': array([], dtype=object), 'answer_start': array([], dtype=int32)}\n",
      "\n",
      "Title: Green\n",
      "Context: Green is common in nature, as many plants are green because of a complex chemical known as chlorophyll, which is involved in photosynthesis. Chlorophyll absorbs the long wavelengths of light (red) and short wavelengths of light (blue) much more efficiently than the wavelengths that appear green to the human eye, so light reflected by plants is enriched in green. Chlorophyll absorbs green light poorly because it first arose in organisms living in oceans where purple halobacteria were already exploiting photosynthesis. Their purple color arose because they extracted energy in the green portion of the spectrum using bacteriorhodopsin. The new organisms that then later came to dominate the extraction of light were selected to exploit those portions of the spectrum not used by the halobacteria.\n",
      "Answer: {'text': array([], dtype=object), 'answer_start': array([], dtype=int32)}\n",
      "\n",
      "Title: Green\n",
      "Context: Green is common in nature, as many plants are green because of a complex chemical known as chlorophyll, which is involved in photosynthesis. Chlorophyll absorbs the long wavelengths of light (red) and short wavelengths of light (blue) much more efficiently than the wavelengths that appear green to the human eye, so light reflected by plants is enriched in green. Chlorophyll absorbs green light poorly because it first arose in organisms living in oceans where purple halobacteria were already exploiting photosynthesis. Their purple color arose because they extracted energy in the green portion of the spectrum using bacteriorhodopsin. The new organisms that then later came to dominate the extraction of light were selected to exploit those portions of the spectrum not used by the halobacteria.\n",
      "Answer: {'text': array([], dtype=object), 'answer_start': array([], dtype=int32)}\n",
      "id='a3d02f31f4c04a12a2d79f94dee1dd3d' object='chat.completion' model='mistral-tiny-2407' usage=UsageInfo(prompt_tokens=924, completion_tokens=30, total_tokens=954, prompt_audio_seconds=Unset()) created=1761642449 choices=[ChatCompletionChoice(index=0, message=AssistantMessage(content=\"Answer: {'text': array(['phyA'], dtype=object), 'answer_start': array([386], dtype=int32)}\", tool_calls=None, prefix=False, role='assistant'), finish_reason='stop')]\n"
     ]
    }
   ],
   "source": [
    "import os\n",
    "from mistralai import Mistral\n",
    "from dotenv import load_dotenv\n",
    "load_dotenv()\n",
    "# Charger les variables d'environnement\n",
    "MISTRAL_MODEL_NAME = os.getenv(\"MISTRAL_MODEL_NAME\", \"mistral-tiny-2407\")\n",
    "\n",
    "# --- Fonction RAG ---\n",
    "def rag_query(query, k=5):\n",
    "    # Vérifier que la clé API existe\n",
    "    api_key = os.getenv(\"MISTRAL_API_KEY\")\n",
    "    if not api_key or api_key.strip() == \"\":\n",
    "        raise ValueError(\"MISTRAL_API_KEY is not set or is empty. Please set it in your environment variables.\")\n",
    "    \n",
    "    # Recherche les documents les plus proches\n",
    "    results = vectorstore.similarity_search(query, k=k)\n",
    "    \n",
    "    # Concaténer les contenus pour Mistral\n",
    "    context = \"\\n\\n\".join([doc.page_content for doc in results])\n",
    "    print(context)\n",
    "    messages = [\n",
    "        {\"role\": \"system\", \"content\": \"You are a helpful assistant.\"},\n",
    "        {\"role\": \"user\", \"content\": f\"Context:\\n{context}\\n\\nQuestion: {query}\"}\n",
    "    ]\n",
    "    \n",
    "    # Obtenir la réponse de Mistral\n",
    "    with Mistral(api_key=api_key) as mistral:\n",
    "        response = mistral.chat.complete(\n",
    "            model=MISTRAL_MODEL_NAME, \n",
    "            messages=messages, \n",
    "            stream=False\n",
    "        )\n",
    "    \n",
    "    return response\n",
    "\n",
    "# Exemple de requête\n",
    "try:\n",
    "    query = \"What photochromes are less stable than phyA?\"\n",
    "    answer = rag_query(query)\n",
    "    print(answer)\n",
    "except ValueError as e:\n",
    "    print(f\"Error: {e}\")\n",
    "    print(\"Please set your MISTRAL_API_KEY environment variable:\")\n",
    "    print(\"export MISTRAL_API_KEY='your-api-key-here'\")\n"
   ]
  }
 ],
 "metadata": {
  "kernelspec": {
   "display_name": "cine_reco",
   "language": "python",
   "name": "python3"
  },
  "language_info": {
   "codemirror_mode": {
    "name": "ipython",
    "version": 3
   },
   "file_extension": ".py",
   "mimetype": "text/x-python",
   "name": "python",
   "nbconvert_exporter": "python",
   "pygments_lexer": "ipython3",
   "version": "3.12.11"
  }
 },
 "nbformat": 4,
 "nbformat_minor": 5
}
